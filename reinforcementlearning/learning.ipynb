{
    "metadata": {
        "kernelspec": {
            "name": "python3",
            "display_name": "Python 3 (ipykernel)",
            "language": "python"
        }
    },
    "nbformat": 4,
    "nbformat_minor": 2,
    "cells": [
        {
            "cell_type": "code",
            "execution_count": 9,
            "metadata": {},
            "outputs": [],
            "source": [
                "# Import the libraries {!pip install as needed} \n",
                "\n",
                "import gym \n",
                "# NumPy for importing math operations\n",
                "import numpy as np \n",
                "# Importing Time functions\n",
                "import time "
            ]
        },
        {
            "cell_type": "code",
            "execution_count": 10,
            "metadata": {},
            "outputs": [],
            "source": [
                "# Create the CartPole-v1 environment with human rendering\n",
                "env = gym.make('CartPole-v1', render_mode='human')\n",
                "\n",
                "# Resets the environment and gets the original state\n",
                "(state,_) = env.reset()"
            ]
        },
        {
            "cell_type": "code",
            "execution_count": 11,
            "metadata": {},
            "outputs": [
                {
                    "data": {
                        "text/plain": "EnvSpec(id='CartPole-v1', entry_point='gym.envs.classic_control.cartpole:CartPoleEnv', reward_threshold=475.0, nondeterministic=False, max_episode_steps=500, order_enforce=True, autoreset=False, disable_env_checker=False, apply_api_compatibility=False, kwargs={'render_mode': 'human'}, namespace=None, name='CartPole', version=1)"
                    },
                    "execution_count": 11,
                    "metadata": {},
                    "output_type": "execute_result"
                }
            ],
            "source": [
                "# Render the environment to visualize it\n",
                "env.render()\n",
                "\n",
                "# Take an action in the environment\n",
                "env.step(0)\n",
                "\n",
                "# Access the observation space of the environment\n",
                "env.observation_space\n",
                "\n",
                "# Access the high bounds of the observation space\n",
                "env.observation_space.high\n",
                "\n",
                "# Access the lower bounds of the observation space\n",
                "env.observation_space.low\n",
                "\n",
                "# Access the action space of the environment\n",
                "env.action_space\n",
                "\n",
                "# Access the environment specs\n",
                "env.spec"
            ]
        }
    ]
}
