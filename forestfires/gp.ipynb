{
    "metadata": {
        "kernelspec": {
            "name": "python3",
            "display_name": "Python 3 (ipykernel)",
            "language": "python"
        }
    },
    "nbformat": 4,
    "nbformat_minor": 2,
    "cells": [
        {
            "attachments": {},
            "cell_type": "markdown",
            "metadata": {},
            "source": [
                "[link text](https://)# Forest Fires Predictor\n",
                "## Using Linear Regression"
            ]
        },
        {
            "cell_type": "code",
            "execution_count": 129,
            "metadata": {},
            "outputs": [],
            "source": [
                "# Importing Libraries\n",
                "import pandas as pd\n",
                "import numpy as np\n",
                "import sklearn\n",
                "import matplotlib.pyplot as pyplot\n",
                "import pickle \n",
                "from sklearn import linear_model\n",
                "from sklearn.utils import shuffle\n",
                "from matplotlib import style"
            ]
        },
        {
            "cell_type": "code",
            "execution_count": 130,
            "metadata": {},
            "outputs": [
                {
                    "name": "stdout",
                    "output_type": "stream",
                    "text": "   X  Y month  day  FFMC   DMC     DC  ISI  temp  RH  wind  rain  area\n0  7  5   mar  fri  86.2  26.2   94.3  5.1   8.2  51   6.7   0.0   0.0\n1  7  4   oct  tue  90.6  35.4  669.1  6.7  18.0  33   0.9   0.0   0.0\n2  7  4   oct  sat  90.6  43.7  686.9  6.7  14.6  33   1.3   0.0   0.0\n3  8  6   mar  fri  91.7  33.3   77.5  9.0   8.3  97   4.0   0.2   0.0\n4  8  6   mar  sun  89.3  51.3  102.2  9.6  11.4  99   1.8   0.0   0.0\n"
                }
            ],
            "source": [
                "# Using pandas to find attributes\n",
                "#Loads the data from forestfires.csv\n",
                "data = pd.read_csv(\"forestfires.csv\", sep = \",\")\n",
                "#Prints the first few lines of data from forest fires \n",
                "print(data.head())"
            ]
        },
        {
            "cell_type": "code",
            "execution_count": 131,
            "metadata": {},
            "outputs": [
                {
                    "name": "stdout",
                    "output_type": "stream",
                    "text": "   FFMC   DMC     DC  ISI  temp  wind  area\n0  86.2  26.2   94.3  5.1   8.2   6.7   0.0\n1  90.6  35.4  669.1  6.7  18.0   0.9   0.0\n2  90.6  43.7  686.9  6.7  14.6   1.3   0.0\n3  91.7  33.3   77.5  9.0   8.3   4.0   0.0\n4  89.3  51.3  102.2  9.6  11.4   1.8   0.0\n"
                }
            ],
            "source": [
                "#Shows only these specific columns of the data\n",
                "data = data[[\"FFMC\", \"DMC\", \"DC\", \"ISI\",\"temp\", \"wind\", \"area\"]]\n",
                "#Prints out only these columns of data\n",
                "print(data.head())"
            ]
        },
        {
            "cell_type": "code",
            "execution_count": 132,
            "metadata": {},
            "outputs": [],
            "source": [
                "# Predicts the target variable\n",
                "predict = \"FFMC\"\n",
                "# Set \"FFMC\" as the column you want to predict\n",
                "\n",
                "x = np.array(data.drop(predict, axis=1))\n",
                "# Create an array \"x\" with all columns except \"FFMC\" (the features)\n",
                "\n",
                "y = np.array(data[predict])\n",
                "# Create an array \"y\" with only the \"FFMC\" column (the target)"
            ]
        },
        {
            "attachments": {},
            "cell_type": "markdown",
            "metadata": {},
            "source": [
                ""
            ]
        },
        {
            "cell_type": "code",
            "execution_count": 133,
            "metadata": {},
            "outputs": [],
            "source": [
                "# Split into train and test\n",
                "x_train, x_test, y_train, y_test = sklearn.model_selection.train_test_split(x, y, test_size = 0.1)"
            ]
        },
        {
            "cell_type": "code",
            "execution_count": 134,
            "metadata": {},
            "outputs": [
                {
                    "name": "stdout",
                    "output_type": "stream",
                    "text": "0.19875862660047405\n"
                }
            ],
            "source": [
                "# Linear equation y = mx + b \n",
                "linear = linear_model.LinearRegression()\n",
                "# Create a linear regression model (y = mx + b)\n",
                "\n",
                "# Define the line of best fit\n",
                "linear.fit(x_train, y_train)\n",
                "# Train the model using the training data (x_train, y_train) to find the best fit line\n",
                "\n",
                "acc = linear.score(x_test, y_test)\n",
                "# Calculate how well the model predicts (accuracy score) using the test data\n",
                "\n",
                "print(acc)\n",
                "# Print the accuracy of the model\n",
                ""
            ]
        },
        {
            "cell_type": "code",
            "execution_count": 135,
            "metadata": {},
            "outputs": [
                {
                    "name": "stdout",
                    "output_type": "stream",
                    "text": "Coefficient: \n [ 0.01233428  0.00060593  0.46504041  0.11579385 -0.25092795  0.00049185]\nIntercept: \n 83.69446923253162\n91.20423740067959 [130.1  807.1    7.5   21.3    2.2   28.19] 91.5\n91.03704006161398 [102.3  751.5    8.4   23.5    4.     3.33] 92.2\n89.1069611361538 [108.4 764.    6.2  18.    5.4   0. ] 91.6\n92.31636551708834 [122.   789.7   10.2   21.1    2.2    8.12] 92.5\n91.68241004170669 [142.4 601.4  10.6  19.8   5.4   0. ] 91.4\n89.5201657069041 [166.9 752.6   7.1  18.5   8.5   0. ] 91.0\n94.16189970293294 [152.6 658.2  14.3  19.1   2.7   4.4] 92.1\n83.83935669665665 [ 25.4  349.7    2.6    4.6    8.5   22.03] 85.4\n89.96618490705467 [ 99.6 631.2   6.3  20.8   2.7   0. ] 90.2\n93.01593408050007 [101.3  423.4   14.7   18.2    4.5    2.21] 93.7\n92.47723070073413 [164.1  575.8    8.9   26.3    3.1    7.02] 92.7\n90.04813220179346 [166.9  752.6    7.1   21.1    7.6    2.17] 91.0\n95.05232955692128 [108.3  647.1   17.    24.6    4.5   10.01] 94.8\n88.22543474063167 [ 56.7  665.6    1.9   27.8    2.7    6.44] 81.6\n89.2000022445788 [33.3 77.5  9.  17.2  4.5  0. ] 91.7\n89.49559159592643 [48.3  97.8  12.5  14.6   9.4   2.53] 91.2\n92.6167439628074 [231.1  715.1    8.4   23.6    4.     6.43] 93.7\n92.4897339644254 [105.8  758.1    9.9   24.8    1.8   14.29] 92.4\n90.06239556491686 [108.4  764.     6.2   19.3    2.2    3.93] 91.6\n85.74206485212773 [25.7 67.6  3.8 15.8  7.6  0. ] 88.1\n84.18818539366808 [  1.1 171.4   0.    5.2   0.9   0. ] 18.7\n88.5653555077741 [35.8  80.8   7.8  17.    4.9  28.66] 91.7\n90.9439866523943 [121.1  674.4    8.6   17.7    3.1  154.88] 92.5\n87.70073055085193 [ 48.3  313.4    3.9   18.     2.7    0.36] 85.8\n92.41853895154362 [178.   605.3    9.6   23.3    4.     6.36] 92.1\n93.96242228197171 [152.6  658.2   14.3   20.2    4.     3.09] 92.1\n90.79382738462411 [9.430e+01 7.444e+02 8.400e+00 2.230e+01 4.000e+00 7.200e-01] 91.2\n96.52618593984215 [217.7  690.    18.    23.4    5.4    6.43] 95.2\n89.1820329601807 [ 89.5 290.8   6.4  15.4   2.2   0. ] 90.4\n85.44779406284208 [ 71.  233.8   0.4  10.6   2.7   0. ] 53.4\n92.95429408690522 [231.1  715.1    8.4   21.9    2.2  174.63] 93.7\n90.89095207134281 [ 78.5 724.3   9.2  18.9   2.7   0. ] 91.8\n90.84080109098527 [124.1 680.7   8.5  22.5   5.4   0. ] 92.4\n86.03353303179725 [25.7 67.6  3.8 15.5  6.3  0. ] 88.1\n89.8561288923173 [ 96.9 624.2   8.9  18.4   6.7   0. ] 90.2\n91.25589825963623 [124.1 680.7   8.5  17.2   1.3   0. ] 92.4\n92.35983568433676 [137.   706.4    9.2   21.5    0.9   11.06] 92.9\n88.75942158250655 [ 88.  698.6   7.1  17.8   7.2   0. ] 92.5\n88.11772420606489 [39.7  86.6   6.2  15.2   3.1  31.86] 90.1\n92.77748029770468 [ 99.9  513.3   13.2   23.8    5.4    0.77] 95.5\n90.51764325155972 [48.3  97.8  12.5  11.7   4.    8.31] 91.2\n86.77476225822713 [25.7 67.6  3.8 14.1  2.7  0. ] 88.1\n89.78801484211263 [ 94.3  744.4    8.4   15.4    4.9   39.35] 91.2\n97.60573301712095 [217.7 690.   18.   30.8   4.5   0. ] 95.2\n91.7320857555352 [ 62.3 442.9  11.   23.    3.1   0. ] 94.2\n98.27340778109891 [135.5  596.3   21.3   30.6    3.6    2.07] 95.0\n91.70588963106046 [181.3  613.     7.6   24.8    4.     3.05] 91.6\n92.49194400523923 [273.8  819.1    7.7   21.3    4.5   12.18] 91.6\n89.8704257215188 [114.3 661.3   6.3  20.2   3.6   0. ] 91.7\n92.27489893411862 [149.3 728.6   8.1  28.3   3.1  64.1] 93.5\n91.3486807389117 [203.2 664.5   8.1  10.4   0.9   0. ] 92.0\n83.89860129617418 [ 25.4  349.7    2.6    5.1    8.5   24.77] 85.4\n"
                }
            ],
            "source": [
                "with open(\"forestfires.xlsx\", \"wb\") as f:\n",
                "    pickle.dump(linear, f)\n",
                "# Save the trained linear model into a file called \"forestfires.xlsx\" using pickle\n",
                "\n",
                "# Load the pickle file\n",
                "pickle_in = open(\"forestfires.xlsx\", \"rb\")\n",
                "linear = pickle.load(pickle_in)\n",
                "# Load the saved linear model from the \"forestfires.xlsx\" file\n",
                "\n",
                "print('Coefficient: \\n', linear.coef_)\n",
                "# Print out the coefficients (slopes) of the linear model\n",
                "\n",
                "print('Intercept: \\n', linear.intercept_)\n",
                "# Print out the intercept (where the line crosses the y-axis) of the model\n",
                "\n",
                "predictions = linear.predict(x_test)\n",
                "# Use the linear model to make predictions on the test data\n",
                "\n",
                "for x in range(len(predictions)):\n",
                "    print(predictions[x], x_test[x], y_test[x])\n",
                "# Loop through the predictions and print each one alongside its corresponding test data and actual value\n",
                ""
            ]
        },
        {
            "cell_type": "code",
            "execution_count": 136,
            "metadata": {},
            "outputs": [
                {
                    "data": {
                        "image/png": "[encoded data removed]",
                        "text/plain": "\u003cFigure size 640x480 with 1 Axes\u003e"
                    },
                    "metadata": {},
                    "output_type": "display_data"
                }
            ],
            "source": [
                "style.use(\"ggplot\")\n",
                "# Apply the \"ggplot\" style to make the plot look nice and clean\n",
                "\n",
                "# Set up a scatter plot\n",
                "p = \"FFMC\"\n",
                "# Choose the \"FFMC\" column to be used on the x-axis\n",
                "\n",
                "pyplot.scatter(data[p], data[\"FFMC\"])\n",
                "# Create a scatter plot with \"FFMC\" values on both the x-axis and y-axis\n",
                "\n",
                "pyplot.xlabel(p)\n",
                "# Label the x-axis with the column name \"FFMC\"\n",
                "\n",
                "pyplot.ylabel(\"Final FFMC\")\n",
                "# Label the y-axis as \"Final FFMC\" to represent the data\n",
                "\n",
                "pyplot.show()\n",
                "# Display the scatter plot on the screen"
            ]
        }
    ]
}
